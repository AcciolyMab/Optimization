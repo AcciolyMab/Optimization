{
 "cells": [
  {
   "cell_type": "code",
   "execution_count": 1,
   "id": "e6e71c80-691d-4329-a85f-1e28c9296355",
   "metadata": {
    "tags": [],
    "ExecuteTime": {
     "end_time": "2023-08-12T16:14:06.088101100Z",
     "start_time": "2023-08-12T16:13:57.106153500Z"
    }
   },
   "outputs": [],
   "source": [
    "import re\n",
    "import requests\n",
    "import json\n",
    "import numpy as np\n",
    "import pandas as pd\n",
    "import folium\n",
    "from builtins import round as py_round\n",
    "import pulp\n",
    "from math import radians, cos, sin, asin, sqrt\n",
    "import time\n",
    "from scipy.spatial import distance_matrix\n",
    "import networkx as nx\n",
    "from geopy.distance import geodesic\n",
    "import matplotlib.pyplot as plt\n",
    "from sklearn.preprocessing import MinMaxScaler\n",
    "from ortools.constraint_solver import pywrapcp\n",
    "from ortools.linear_solver import pywraplp\n",
    "from ortools.sat.python import cp_model\n",
    "from urllib.parse import unquote\n",
    "from collections import defaultdict\n",
    "from itertools import combinations\n",
    "from pulp import PULP_CBC_CMD\n",
    "from pulp import value"
   ]
  },
  {
   "cell_type": "code",
   "execution_count": 1,
   "id": "d690f912-f203-4252-b3fe-68da4cc89e55",
   "metadata": {
    "tags": [],
    "ExecuteTime": {
     "end_time": "2023-08-12T16:14:48.841388Z",
     "start_time": "2023-08-12T16:14:48.648734Z"
    }
   },
   "outputs": [],
   "source": []
  },
  {
   "cell_type": "markdown",
   "id": "56af4316-6e6e-4461-821f-621877ee2a9d",
   "metadata": {},
   "source": [
    "# RETORNAR LISTA DE PRODUROS"
   ]
  },
  {
   "cell_type": "code",
   "execution_count": 1,
   "id": "cef3dcce-973c-4fa3-801e-93ad83b367e2",
   "metadata": {
    "ExecuteTime": {
     "end_time": "2023-08-12T16:14:50.511834300Z",
     "start_time": "2023-08-12T16:14:50.455060900Z"
    }
   },
   "outputs": [],
   "source": []
  },
  {
   "cell_type": "code",
   "execution_count": 2,
   "id": "f92c78c1-60a5-49cc-b856-dabfe2509233",
   "metadata": {
    "ExecuteTime": {
     "end_time": "2023-08-12T16:14:51.309923500Z",
     "start_time": "2023-08-12T16:14:51.169615600Z"
    }
   },
   "outputs": [],
   "source": [
    "def consultarProdutoDesc(gtin,raio, my_lat, my_lon, dias):\n",
    "    url = 'http://api.sefaz.al.gov.br/sfz-economiza-alagoas-api/api/public/produto/pesquisa'#\"http://api.sefaz.al.gov.br/sfz_nfce_api/api/public/consultarPrecosPorDescricao\"#\n",
    "\n",
    "    data={\n",
    "        \"produto\": {\n",
    "            \"gtin\": gtin\n",
    "\t},\n",
    "        \"estabelecimento\": {\n",
    "            \"geolocalizacao\": {\n",
    "                \"latitude\": my_lat,\n",
    "                \"longitude\": my_lon,\n",
    "                \"raio\": raio\n",
    "\t\t}\t\n",
    "\t},\n",
    "        \"dias\": dias,\n",
    "        \"pagina\": 1,\n",
    "        \"registrosPorPagina\": 50\n",
    "}\n",
    "    \n",
    "    headers = {\n",
    "        \"Content-Type\": \"application/json\",\n",
    "        \"AppToken\":     \"ad909a7a6f0d6a130941ae2a9706eec58c0bb65d\"\n",
    "    }\n",
    "    \n",
    "    response = requests.post(url, headers=headers, json=data)\n",
    "    if response.status_code == 200:\n",
    "        return response.json()\n",
    "    else:\n",
    "        return None"
   ]
  },
  {
   "cell_type": "code",
   "execution_count": 3,
   "id": "065b2e1b-b6c3-4bd1-83b0-708719404e69",
   "metadata": {
    "ExecuteTime": {
     "end_time": "2023-08-12T16:14:52.139002300Z",
     "start_time": "2023-08-12T16:14:52.079868500Z"
    }
   },
   "outputs": [],
   "source": [
    "#-9.658232850943236, -35.70447119966636 -9.65820182809976, -35.70447142904843 -9.65697, -35.70436\n",
    "latitude = -9.65697\n",
    "longitude = -35.70436\n",
    "dias = 1\n",
    "raio = 2"
   ]
  },
  {
   "cell_type": "code",
   "execution_count": null,
   "id": "5c5b89c4-c13c-4636-95be-3d6262ab21e6",
   "metadata": {
    "ExecuteTime": {
     "end_time": "2023-08-11T18:24:22.175296200Z",
     "start_time": "2023-08-11T18:24:22.133136600Z"
    }
   },
   "outputs": [],
   "source": [
    "item_list = ['7896006716112', '7893500024996', '7896012300213', '7898018160082', '7896084700027',\n",
    "             '7896006744115', '7893500007715', '7898383101000', '7898907040969', '7898902735167']#,\n",
    "             #'7896213005184', '7896532701576', '7896005213018', '7896005030530', '7896005213018',\n",
    "             #'7896102501872', '7908235000259', '7896036098981', '7897517206086', '7898366932768',\n",
    "             #'7891107101621', '7892300001428', '7898247780075', '7896036090244', '7892300030060']\n",
    "            \n",
    "\n",
    "'''\n",
    "\n",
    "'7896065200072', '7896215300591', '7896065200065', '7897261800011', '7896215300591',\n",
    "            '7896005800027', '7896224808101', '7896224803069', '7898286200060', '7896005213018',\n",
    "            '7896481130106', '7891091010718', '7898366932973', '7898932426042', '7898366930023',\n",
    "            '7891167021013', '7891167023017', '7891167023024', '7896009301063', '7891167023024',\n",
    "            '7896024760302', '7896005030349', '7896024721358', '7896061300677', '7891000370896',\n",
    "            '7896110100012', '7897472200013', '7896110100043', '7898272919150', '7897472200013']\n",
    "[\n",
    "    \"7893500024996\",\n",
    "    \"7898383101000\",\n",
    "    \"7896005213018\",\n",
    "    '7896036098981',\n",
    "    '7892300001428']\n",
    "\n",
    "7896065200072',\n",
    "    '7896005213018',\n",
    "    '7898932426042',\n",
    "    '7891167023024',\n",
    "    '7896005030349',\n",
    "    '7896110100012']\n",
    "'''"
   ]
  },
  {
   "cell_type": "code",
   "execution_count": null,
   "id": "b2f4cbe3-ba93-4c9b-9554-cff694c4696b",
   "metadata": {
    "ExecuteTime": {
     "end_time": "2023-08-11T18:24:23.024860300Z",
     "start_time": "2023-08-11T18:24:23.007304300Z"
    }
   },
   "outputs": [],
   "source": []
  },
  {
   "cell_type": "code",
   "execution_count": null,
   "id": "8633c141-3543-4666-9bf2-d6eb506ac792",
   "metadata": {
    "ExecuteTime": {
     "end_time": "2023-08-11T18:24:23.498411500Z",
     "start_time": "2023-08-11T18:24:23.477457300Z"
    }
   },
   "outputs": [],
   "source": [
    "len(item_list)"
   ]
  },
  {
   "cell_type": "code",
   "execution_count": null,
   "id": "e853c4e2-9b4e-4d1d-872e-e2852c3efd6a",
   "metadata": {
    "ExecuteTime": {
     "end_time": "2023-08-11T18:24:25.677347700Z",
     "start_time": "2023-08-11T18:24:23.947395900Z"
    }
   },
   "outputs": [],
   "source": [
    "\n",
    "response_list = []\n",
    "\n",
    "for item in item_list:\n",
    "    response = consultarProdutoDesc(item, raio, latitude, longitude, dias)\n",
    "    response_list.append(response)"
   ]
  },
  {
   "cell_type": "code",
   "execution_count": null,
   "id": "323bc98a-50a6-4200-8436-b646565f173c",
   "metadata": {
    "ExecuteTime": {
     "end_time": "2023-08-11T18:24:25.683691Z",
     "start_time": "2023-08-11T18:24:25.679340800Z"
    }
   },
   "outputs": [],
   "source": []
  },
  {
   "cell_type": "code",
   "execution_count": null,
   "id": "7958a1d2-c899-4f1f-b979-c00963c3949c",
   "metadata": {
    "ExecuteTime": {
     "end_time": "2023-08-11T18:24:25.700987300Z",
     "start_time": "2023-08-11T18:24:25.684688700Z"
    }
   },
   "outputs": [],
   "source": [
    "data_list = []\n",
    "\n",
    "for response in response_list:\n",
    "    for item in response['conteudo']:\n",
    "        produto = item['produto']\n",
    "        estabelecimento = item['estabelecimento']\n",
    "        endereco = estabelecimento['endereco']\n",
    "        \n",
    "        data = {\n",
    "            'CODIGO_BARRAS': int(produto['gtin']),\n",
    "            'PRODUTO': produto['descricao'],\n",
    "            'VALOR': produto['venda']['valorVenda'],\n",
    "            'CNPJ': int(estabelecimento['cnpj']),\n",
    "            'MERCADO': estabelecimento['razaoSocial'],\n",
    "            'ENDERECO': endereco['nomeLogradouro'],\n",
    "            'NUMERO': endereco['numeroImovel'],\n",
    "            'BAIRRO': endereco['bairro'],\n",
    "            'LAT': endereco['latitude'],\n",
    "            'LONG': endereco['longitude']\n",
    "        }\n",
    "        \n",
    "        data_list.append(data)\n",
    "\n",
    "df = pd.DataFrame(data_list)"
   ]
  },
  {
   "cell_type": "code",
   "execution_count": null,
   "id": "3362d380-f0fd-466b-b64b-857a3a819156",
   "metadata": {
    "ExecuteTime": {
     "end_time": "2023-08-11T18:24:25.725253400Z",
     "start_time": "2023-08-11T18:24:25.699419400Z"
    }
   },
   "outputs": [],
   "source": []
  },
  {
   "cell_type": "code",
   "execution_count": null,
   "id": "7dd19241-951d-41a0-bab9-9184fac97367",
   "metadata": {
    "ExecuteTime": {
     "end_time": "2023-08-11T18:24:26.601835500Z",
     "start_time": "2023-08-11T18:24:26.580320200Z"
    }
   },
   "outputs": [],
   "source": [
    "df = df[df['CODIGO_BARRAS'] != 0]"
   ]
  },
  {
   "cell_type": "code",
   "execution_count": null,
   "id": "bfab6f37-12c4-4bb1-9995-d87d680680e4",
   "metadata": {
    "ExecuteTime": {
     "end_time": "2023-08-11T18:24:27.155811600Z",
     "start_time": "2023-08-11T18:24:27.126180200Z"
    }
   },
   "outputs": [],
   "source": []
  },
  {
   "cell_type": "code",
   "execution_count": null,
   "id": "e2a4130d-1229-4250-98dc-6f86741a1b2e",
   "metadata": {
    "ExecuteTime": {
     "end_time": "2023-08-11T18:24:27.749408200Z",
     "start_time": "2023-08-11T18:24:27.733228300Z"
    }
   },
   "outputs": [],
   "source": [
    "product_list=df['CODIGO_BARRAS'].unique()"
   ]
  },
  {
   "cell_type": "code",
   "execution_count": null,
   "id": "70b3b1b1-fc15-4f9a-b7a7-24d405dbf1fc",
   "metadata": {
    "ExecuteTime": {
     "end_time": "2023-08-11T18:24:28.488743Z",
     "start_time": "2023-08-11T18:24:28.468723Z"
    }
   },
   "outputs": [],
   "source": []
  },
  {
   "cell_type": "code",
   "execution_count": null,
   "id": "63291685-e40e-4904-b0c1-cc97fb6595fe",
   "metadata": {
    "ExecuteTime": {
     "end_time": "2023-08-11T18:24:29.007417300Z",
     "start_time": "2023-08-11T18:24:28.968847800Z"
    }
   },
   "outputs": [],
   "source": [
    "# Create a unique ID for each market\n",
    "df['unique_market_id'] = df['CNPJ'].astype(str) + ' - ' + df['MERCADO']\n",
    "\n",
    "# Get a count of unique barcodes for each market\n",
    "product_counts = df.groupby('unique_market_id')['CODIGO_BARRAS'].nunique()\n",
    "\n",
    "# Sort the counts in descending order and get the top 5\n",
    "ranking_markets = product_counts.sort_values(ascending=False).head(5)"
   ]
  },
  {
   "cell_type": "code",
   "execution_count": null,
   "id": "6b2c2108-61cf-4f7a-b885-59512077886b",
   "metadata": {
    "ExecuteTime": {
     "end_time": "2023-08-11T18:24:29.848955300Z",
     "start_time": "2023-08-11T18:24:29.833841Z"
    }
   },
   "outputs": [],
   "source": []
  },
  {
   "cell_type": "code",
   "execution_count": null,
   "id": "fe9d81b1-023e-4aa8-815d-d891ccae435f",
   "metadata": {
    "ExecuteTime": {
     "end_time": "2023-08-11T18:24:30.403949500Z",
     "start_time": "2023-08-11T18:24:30.383583200Z"
    }
   },
   "outputs": [],
   "source": [
    "# Convert the Series to a DataFrame\n",
    "ranking_markets = ranking_markets.reset_index()\n",
    "\n",
    "# Get a list of unique_market_ids for the top 5 markets\n",
    "ranking_markets = ranking_markets['unique_market_id'].tolist()\n",
    "\n",
    "# Filter df to include only the top 5 markets\n",
    "df = df[df['unique_market_id'].isin(ranking_markets)]"
   ]
  },
  {
   "cell_type": "code",
   "execution_count": null,
   "id": "46b63959-2985-402d-8fe6-8f09f41417cc",
   "metadata": {
    "ExecuteTime": {
     "end_time": "2023-08-11T18:24:31.133331Z",
     "start_time": "2023-08-11T18:24:31.106550200Z"
    }
   },
   "outputs": [],
   "source": [
    "df.reset_index(drop=True, inplace=True)"
   ]
  },
  {
   "cell_type": "code",
   "execution_count": null,
   "id": "060544da-61c7-46d3-915e-58a5c4e6b57d",
   "metadata": {
    "ExecuteTime": {
     "end_time": "2023-08-11T18:24:31.826685Z",
     "start_time": "2023-08-11T18:24:31.793370200Z"
    }
   },
   "outputs": [],
   "source": []
  },
  {
   "cell_type": "code",
   "execution_count": null,
   "id": "5421d2c3-ac64-44d1-9df6-b758043f70d2",
   "metadata": {
    "ExecuteTime": {
     "end_time": "2023-08-11T18:24:33.869563Z",
     "start_time": "2023-08-11T18:24:33.833191Z"
    }
   },
   "outputs": [],
   "source": [
    "# Initialize the dictionary with the depot information\n",
    "product_dict = {'00000': {\n",
    "               'Depot': {\n",
    "                   'mercado': 'Depot',\n",
    "                   'produto': 'Depot',\n",
    "                   'endereco': ' ',\n",
    "                   'localização': (-9.65697, -35.70436),\n",
    "                   'valor': 0.0\n",
    "               }\n",
    "        # Other relevant details for the depot\n",
    "    }\n",
    "}\n",
    "\n",
    "# Iterate through the rows of the dataframe\n",
    "for index, row in df.iterrows():\n",
    "    codigo_barras = str(row['CODIGO_BARRAS'])\n",
    "    valor = row['VALOR']\n",
    "    if valor != '0': # Ignore entries with value 0\n",
    "        mercado_info = {\n",
    "            row['CNPJ']: {\n",
    "                \"mercado\": row['MERCADO'],\n",
    "                \"produto\": row['PRODUTO'],\n",
    "                'endereco': row['ENDERECO'],\n",
    "                'numero': row['NUMERO'],\n",
    "                \"localização\": (row['LAT'], row['LONG']),\n",
    "                \"valor\": valor\n",
    "            }\n",
    "        }\n",
    "        \n",
    "        # If the barcode is already in the dictionary, update the entry. Otherwise, add a new entry.\n",
    "        if codigo_barras in product_dict:\n",
    "            product_dict[codigo_barras].update(mercado_info)\n",
    "        else:\n",
    "            product_dict[codigo_barras] = mercado_info\n",
    "            \n",
    "for key, value in list(product_dict.items())[:2]:\n",
    "    print(f\"{key}: {value}\\n\")\n"
   ]
  },
  {
   "cell_type": "code",
   "execution_count": null,
   "id": "b8d86209-2677-473d-bcd4-b63614dcaca0",
   "metadata": {
    "ExecuteTime": {
     "end_time": "2023-08-11T18:24:35.222966300Z",
     "start_time": "2023-08-11T18:24:35.208610600Z"
    }
   },
   "outputs": [],
   "source": []
  },
  {
   "cell_type": "code",
   "execution_count": null,
   "id": "7f7cbba2-8054-408c-b664-cf9319f7351a",
   "metadata": {
    "ExecuteTime": {
     "end_time": "2023-08-11T18:24:36.215733700Z",
     "start_time": "2023-08-11T18:24:36.022615300Z"
    }
   },
   "outputs": [],
   "source": [
    "G = nx.Graph()\n",
    "\n",
    "# Adicionando o vértice v0 para representar a localização inicial\n",
    "G.add_node(\"v0\")  # Você pode adicionar atributos aqui para a localização\n",
    "\n",
    "# Adicionando mercados como vértices\n",
    "for barcode, markets in product_dict.items():\n",
    "    for cnpj, details in markets.items():\n",
    "        G.add_node(cnpj, mercado=details[\"mercado\"], localização=details[\"localização\"])\n",
    "\n",
    "# Adicionando arestas entre todos os possíveis pares de nós (conexão completa)\n",
    "node_pairs = combinations(G.nodes(), 2)\n",
    "G.add_edges_from(node_pairs)\n",
    "\n",
    "# Create a new figure and axis\n",
    "fig, ax = plt.subplots()\n",
    "\n",
    "# Draw the graph using the specified axis\n",
    "nx.draw(G, with_labels=True, ax=ax)\n",
    "\n",
    "# Show the plot\n",
    "plt.show()\n"
   ]
  },
  {
   "cell_type": "code",
   "execution_count": null,
   "id": "38599d04-53ba-42d9-ab35-1f65860f6186",
   "metadata": {
    "ExecuteTime": {
     "end_time": "2023-08-11T18:24:37.164402300Z",
     "start_time": "2023-08-11T18:24:37.028377500Z"
    }
   },
   "outputs": [],
   "source": [
    "G = nx.Graph()\n",
    "\n",
    "# Adicionando o vértice v0 para representar a localização inicial\n",
    "G.add_node(\"v0\")  # Você pode adicionar atributos aqui para a localização\n",
    "\n",
    "# Adicionando mercados como vértices\n",
    "for barcode, markets in product_dict.items():\n",
    "    for cnpj, details in markets.items():\n",
    "        G.add_node(cnpj, mercado=details[\"mercado\"], localização=details[\"localização\"])\n",
    "\n",
    "# Adicionando arestas entre todos os possíveis pares de nós (conexão completa)\n",
    "node_pairs = combinations(G.nodes(), 2)\n",
    "G.add_edges_from(node_pairs)\n",
    "\n",
    "# Create a copy of the graph to avoid any modification to the original graph\n",
    "H = G.copy()\n",
    "\n",
    "# Define the node positions (localização) for drawing the graph\n",
    "pos = {node: data['localização'] for node, data in H.nodes(data=True) if node != 'v0'}\n",
    "pos['v0'] = (-9.601654, -35.760414)  # Substitua x e y pelas coordenadas da sua localização inicial\n",
    "\n",
    "# Create a new figure and axis explicitly\n",
    "fig, ax = plt.subplots()\n",
    "\n",
    "# Draw the graph using the specified node positions and the axis\n",
    "nx.draw(H, pos, with_labels=True, ax=ax)\n",
    "\n",
    "# Show the plot\n",
    "plt.show()\n"
   ]
  },
  {
   "cell_type": "code",
   "execution_count": null,
   "id": "81fa3a03-9f95-44d8-8182-8f449f55186a",
   "metadata": {
    "ExecuteTime": {
     "end_time": "2023-08-11T18:24:37.882556200Z",
     "start_time": "2023-08-11T18:24:37.854129300Z"
    }
   },
   "outputs": [],
   "source": []
  },
  {
   "cell_type": "code",
   "execution_count": null,
   "id": "96a21174-a7a8-4855-9c7e-0b9dec8f82e2",
   "metadata": {
    "ExecuteTime": {
     "end_time": "2023-08-11T18:24:38.488627200Z",
     "start_time": "2023-08-11T18:24:38.468749400Z"
    }
   },
   "outputs": [],
   "source": [
    "def create_matrices(product_dict):\n",
    "    # Get the depot location\n",
    "    depot_location = product_dict['00000']['Depot']['localização']\n",
    "\n",
    "    # Get all the market locations, excluding the depot\n",
    "    market_locations = [info['localização'] for markets in product_dict.values() for info in markets.values() if 'localização' in info and info['localização'] != depot_location]\n",
    "\n",
    "    # Combine depot and market locations\n",
    "    locations = [depot_location] + market_locations\n",
    "    n = len(locations)\n",
    "    vehicle_consumption = 9.5 # km per liter\n",
    "    fuel_price_per_lt = 5.44\n",
    "    \n",
    "    # Create the distance and fuel cost matrix\n",
    "    distance_matrix = np.zeros((n, n))\n",
    "    for i in range(n):\n",
    "        for j in range(n):\n",
    "            if i != j:\n",
    "                distance = geodesic(locations[i], locations[j]).kilometers\n",
    "                fuel_cost = distance * (1 / vehicle_consumption) * fuel_price_per_lt\n",
    "                distance_matrix[i][j] = distance + fuel_cost\n",
    "\n",
    "    # Create indices for the markets\n",
    "    market_index = {}\n",
    "    idx = 1 # Start at 1 to exclude the depot\n",
    "    for markets in product_dict.values():\n",
    "        for market_cnpj in markets.keys():\n",
    "            if market_cnpj != 'Depot' and market_cnpj not in market_index:\n",
    "                market_index[market_cnpj] = idx\n",
    "                idx += 1\n",
    "\n",
    "    # Create the price matrix\n",
    "    m = len(product_dict) - 1 # Number of products, excluding the depot\n",
    "    corrected_price_matrix = np.full((n, m), float('inf'))\n",
    "    for product_idx, (product_code, markets_info) in enumerate([item for item in product_dict.items() if item[0] != '00000']):\n",
    "        for market_cnpj, product_info in markets_info.items():\n",
    "            corrected_price_matrix[market_index[market_cnpj]][product_idx] = product_info['valor']\n",
    "\n",
    "    return corrected_price_matrix, distance_matrix\n",
    "\n",
    "\n"
   ]
  },
  {
   "cell_type": "code",
   "execution_count": null,
   "id": "1dcfbc5e-fe18-49c3-9db9-fde4cd327483",
   "metadata": {
    "ExecuteTime": {
     "end_time": "2023-08-11T18:24:39.503816600Z",
     "start_time": "2023-08-11T18:24:39.403277300Z"
    }
   },
   "outputs": [],
   "source": [
    "price_matrix, distance_matrix = create_matrices(product_dict)"
   ]
  },
  {
   "cell_type": "code",
   "execution_count": null,
   "id": "cb4720860fcf086d",
   "metadata": {
    "ExecuteTime": {
     "end_time": "2023-08-11T18:24:41.851817400Z",
     "start_time": "2023-08-11T18:24:41.824240300Z"
    },
    "collapsed": false
   },
   "outputs": [],
   "source": [
    "price_matrix"
   ]
  },
  {
   "cell_type": "code",
   "execution_count": null,
   "id": "ed4e6d1d0f1f44bb",
   "metadata": {
    "ExecuteTime": {
     "end_time": "2023-08-11T18:24:43.009301900Z",
     "start_time": "2023-08-11T18:24:42.956492800Z"
    },
    "collapsed": false
   },
   "outputs": [],
   "source": [
    "distance_matrix"
   ]
  },
  {
   "cell_type": "code",
   "execution_count": null,
   "id": "7ea9083f-9b3a-4532-a0d9-8abb331020a0",
   "metadata": {
    "ExecuteTime": {
     "end_time": "2023-08-11T18:24:45.897634600Z",
     "start_time": "2023-08-11T18:24:45.855071100Z"
    }
   },
   "outputs": [],
   "source": []
  },
  {
   "cell_type": "code",
   "execution_count": null,
   "id": "031f8297-c500-4739-8529-9c91a9da324d",
   "metadata": {
    "ExecuteTime": {
     "end_time": "2023-08-11T18:24:47.644093400Z",
     "start_time": "2023-08-11T18:24:47.608708600Z"
    }
   },
   "outputs": [],
   "source": [
    "def create_market_index_mapping(product_dict):\n",
    "    market_index_mapping = {}\n",
    "    index = 1  # Start with 1 to exclude the depot\n",
    "    for markets in product_dict.values():\n",
    "        for market_cnpj, details in markets.items():\n",
    "            if market_cnpj != 'Depot':\n",
    "                market_index_mapping[market_cnpj] = details\n",
    "                market_index_mapping[market_cnpj]['index'] = index\n",
    "                index += 1\n",
    "    return market_index_mapping\n"
   ]
  },
  {
   "cell_type": "code",
   "execution_count": null,
   "id": "f7fb424526222274",
   "metadata": {
    "ExecuteTime": {
     "end_time": "2023-08-11T18:24:48.813872300Z",
     "start_time": "2023-08-11T18:24:48.791122200Z"
    },
    "collapsed": false
   },
   "outputs": [],
   "source": [
    "print(create_market_index_mapping(product_dict))"
   ]
  },
  {
   "cell_type": "code",
   "execution_count": null,
   "id": "bc708f0a-0201-457b-836d-e3a7fb3ee5d9",
   "metadata": {
    "ExecuteTime": {
     "end_time": "2023-08-11T18:24:49.971794400Z",
     "start_time": "2023-08-11T18:24:49.951880100Z"
    }
   },
   "outputs": [],
   "source": [
    "def calculate_markets_to_buy(solution, z, m, n, market_index_mapping):\n",
    "    markets_to_buy = {}\n",
    "    for k in range(m):\n",
    "        for i in range(1, n):\n",
    "            if solution.get_value(z[k][i]) == 1:\n",
    "                market_cnpjs = [cnpj for cnpj, details in market_index_mapping.items() if details['index'] == i]\n",
    "                if market_cnpjs:\n",
    "                    market_cnpj = market_cnpjs[0]\n",
    "                    markets_to_buy[k] = [market_cnpj]\n",
    "                else:\n",
    "                    raise ValueError(f\"Index {i} not found in market_index_mapping\")\n",
    "    return markets_to_buy\n",
    "\n",
    "def process_route_and_markets(markets_to_buy, market_index_mapping):\n",
    "    visited_markets = set()\n",
    "    route_names = [\"Depot\"]\n",
    "    for k, markets in markets_to_buy.items():\n",
    "        market_cnpj = markets[0]\n",
    "        if market_cnpj not in visited_markets:\n",
    "            market_name = market_index_mapping[market_cnpj]['mercado']\n",
    "            route_names.append(f\"{market_cnpj} - {market_name}\")\n",
    "            visited_markets.add(market_cnpj)\n",
    "    route_names.append(\"Depot\")\n",
    "    print(\"Rota de custo mínimo:\", \" --> \".join(route_names))\n",
    "\n"
   ]
  },
  {
   "cell_type": "code",
   "execution_count": null,
   "id": "1cace4e0000abb5d",
   "metadata": {
    "ExecuteTime": {
     "end_time": "2023-08-11T18:24:50.754266400Z",
     "start_time": "2023-08-11T18:24:50.726450100Z"
    },
    "collapsed": false
   },
   "outputs": [],
   "source": [
    "def calculate_products_and_subtotals(markets_to_buy, market_index_mapping):\n",
    "    products_by_market = {}\n",
    "    market_subtotals = {}\n",
    "    for product_idx, market_cnpj_list in markets_to_buy.items():\n",
    "        for market_cnpj in market_cnpj_list:\n",
    "            market_details = market_index_mapping[market_cnpj]\n",
    "            market_name = market_details['mercado']\n",
    "            product = market_details['produto']\n",
    "            price = market_details['valor']\n",
    "            products_by_market.setdefault(market_cnpj, []).append((product, price))\n",
    "            market_subtotals[market_cnpj] = market_subtotals.get(market_cnpj, 0) + price\n",
    "            print(f\"Mercado: {market_name}\\nProduto: {product}\\nValor: {price}\")\n",
    "\n",
    "    for market_cnpj, subtotal in market_subtotals.items():\n",
    "        print(f\"Subtotal para {market_cnpj}: {np.round(subtotal, 2)}\")\n",
    "\n",
    "    return market_subtotals\n"
   ]
  },
  {
   "cell_type": "code",
   "execution_count": null,
   "id": "de1ae52b-645b-408d-9d9a-1e08d5d8542f",
   "metadata": {
    "ExecuteTime": {
     "end_time": "2023-08-11T18:24:52.795941Z",
     "start_time": "2023-08-11T18:24:52.766510400Z"
    }
   },
   "outputs": [],
   "source": [
    "def process_solution(solution, market_index_mapping, n, m, z):\n",
    "    markets_to_buy = {k: [] for k in range(m)}\n",
    "    for k in range(m):\n",
    "        for i in range(1, n):  # Exclude the depot\n",
    "            if solution.get_value(z[k][i]) == 1:\n",
    "                market_cnpj = [key for key, details in market_index_mapping.items() if details['index'] == i][0]\n",
    "                markets_to_buy[k].append(market_cnpj)\n",
    "\n",
    "    market_subtotals = calculate_products_and_subtotals(markets_to_buy, market_index_mapping)\n",
    "\n",
    "    total_cost_products = sum(subtotal for subtotal in market_subtotals.values())\n",
    "    return total_cost_products, markets_to_buy\n"
   ]
  },
  {
   "cell_type": "code",
   "execution_count": null,
   "id": "5a7798ce-1dbb-4fbe-a8c6-8223d46124ba",
   "metadata": {
    "ExecuteTime": {
     "end_time": "2023-08-11T19:01:01.263751600Z",
     "start_time": "2023-08-11T19:01:01.171552Z"
    }
   },
   "outputs": [],
   "source": [
    "def main(distance_matrix, price_matrix, product_dict):\n",
    "    n = len(distance_matrix) # Number of vertices, including depot\n",
    "    m = len(product_dict) - 1 # Number of products, excluding depot\n",
    "    c = distance_matrix      # Travel cost\n",
    "    b = np.transpose(price_matrix) # Buying cost\n",
    "\n",
    "    # Create the model\n",
    "    model = Model(name=\"route-and-buying-optimization\")\n",
    "\n",
    "    # Decision Variables\n",
    "    x = [[model.binary_var(name=f'x[{i},{j}]') for j in range(n)] for i in range(n)]\n",
    "    y = [model.binary_var(name=f'y[{i}]') for i in range(n)]\n",
    "    z = [[model.binary_var(name=f'z[{k},{i}]') for i in range(n)] for k in range(m)]\n",
    "    u = [model.continuous_var(name=f'u[{i}]') for i in range(1, n)] # excluding depot\n",
    "\n",
    "    # Objective Function\n",
    "    objective_terms = []\n",
    "    for i in range(n):\n",
    "        for j in range(n):\n",
    "            if i != j:\n",
    "                objective_terms.append(c[i][j] * x[i][j])\n",
    "    for i in range(n):\n",
    "        for k in range(m):\n",
    "            if not np.isinf(b[k][i]):\n",
    "                objective_terms.append(b[k][i] * z[k][i])\n",
    "\n",
    "    model.minimize(sum(objective_terms))\n",
    "\n",
    "    # Constraints\n",
    "    for i in range(n):\n",
    "        model.add_constraint(sum(x[i][j] for j in range(n) if i != j) == y[i])\n",
    "    \n",
    "    for k in range(m):\n",
    "        model.add_constraint(sum(z[k][i] for i in range(n)) == 1)\n",
    "\n",
    "    for k in range(m):\n",
    "        for i in range(n):\n",
    "            model.add_constraint(z[k][i] <= y[i])\n",
    "\n",
    "    model.add_constraint(y[0] == 1)\n",
    "\n",
    "    for i in range(1, n):\n",
    "        for j in range(1, n):\n",
    "            if i != j:\n",
    "                model.add_constraint(u[i-1] - u[j-1] + n * x[i][j] <= n-1)\n",
    "\n",
    "    for i in range(1, n):\n",
    "        model.add_constraint(u[i-1] >= 0)\n",
    "\n",
    "    # Solve the model\n",
    "    solution = model.solve()\n",
    "    \n",
    "    if solution:\n",
    "        market_index_mapping = create_market_index_mapping(product_dict)\n",
    "        total_cost_products, markets_to_buy = process_solution(solution, market_index_mapping, n, m, z)\n",
    "    \n",
    "        # Calculate the total cost of distance\n",
    "        total_cost_distance = 0\n",
    "        for i in range(n):\n",
    "            for j in range(n):\n",
    "                if i != j:\n",
    "                    total_cost_distance += c[i][j] * solution.get_value(x[i][j])\n",
    "    \n",
    "        # Update the total cost calculation\n",
    "        total_cost = total_cost_products + total_cost_distance\n",
    "    \n",
    "        print(\"Total comprado nos mercados:\", np.round(total_cost_products, 2))\n",
    "        print(\"Custo mínimo (incluindo distâncias e produtos):\", np.round(total_cost, 2))\n",
    "\n"
   ]
  },
  {
   "cell_type": "code",
   "execution_count": null,
   "id": "07a995d8-6f09-40bd-96c6-7d55ce51719a",
   "metadata": {
    "ExecuteTime": {
     "end_time": "2023-08-11T19:32:47.567457300Z",
     "start_time": "2023-08-11T19:01:08.383950300Z"
    }
   },
   "outputs": [],
   "source": [
    "if __name__ == '__main__':\n",
    "    main(distance_matrix, price_matrix, product_dict)"
   ]
  },
  {
   "cell_type": "code",
   "execution_count": null,
   "id": "3cb05d53-85f2-4b40-98aa-341d309d98aa",
   "metadata": {},
   "outputs": [],
   "source": [
    "distance_matrix_str = \"\"\"[Your copied distance matrix]\"\"\"\n",
    "distance_matrix = np.array([list(map(float, row.split(','))) for row in distance_matrix_str.strip().split('\\n')])\n",
    "\n",
    "# Defining the price_matrix (Example)\n",
    "price_matrix = [\n",
    "    [10, 20, 30], # Product 0\n",
    "    [20, 30, 40], # Product 1\n",
    "    # Add more if needed\n",
    "]\n",
    "\n",
    "# Defining the product_dict (Example)\n",
    "product_dict = {\n",
    "    'product_0': [0, 1, 2],\n",
    "    'product_1': [0, 2],\n",
    "    # Add more if needed\n",
    "}\n",
    "\n",
    "# Running the main function\n",
    "main(distance_matrix, price_matrix, product_dict)"
   ]
  },
  {
   "cell_type": "code",
   "execution_count": null,
   "id": "258cc185af83dc9f",
   "metadata": {
    "collapsed": false
   },
   "outputs": [],
   "source": []
  },
  {
   "cell_type": "code",
   "execution_count": null,
   "id": "967ad677a85c138c",
   "metadata": {
    "collapsed": false
   },
   "outputs": [],
   "source": [
    "distance_matrix = np.array(distance_matrix)\n",
    "\n",
    "# Printing the shape to ensure it's correctly formed\n",
    "distance_matrix.shape"
   ]
  },
  {
   "cell_type": "code",
   "execution_count": null,
   "id": "feaaeddb52bf5ed",
   "metadata": {
    "collapsed": false
   },
   "outputs": [],
   "source": []
  }
 ],
 "metadata": {
  "kernelspec": {
   "display_name": "Python 3 (ipykernel)",
   "language": "python",
   "name": "python3"
  },
  "language_info": {
   "codemirror_mode": {
    "name": "ipython",
    "version": 3
   },
   "file_extension": ".py",
   "mimetype": "text/x-python",
   "name": "python",
   "nbconvert_exporter": "python",
   "pygments_lexer": "ipython3",
   "version": "3.11.4"
  },
  "widgets": {
   "application/vnd.jupyter.widget-state+json": {
    "state": {},
    "version_major": 2,
    "version_minor": 0
   }
  }
 },
 "nbformat": 4,
 "nbformat_minor": 5
}
